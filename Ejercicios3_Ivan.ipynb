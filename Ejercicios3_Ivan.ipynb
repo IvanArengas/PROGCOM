{
  "nbformat": 4,
  "nbformat_minor": 0,
  "metadata": {
    "colab": {
      "name": "Ejercicios3 Ivan.ipynb",
      "provenance": []
    },
    "kernelspec": {
      "name": "python3",
      "display_name": "Python 3"
    },
    "language_info": {
      "name": "python"
    }
  },
  "cells": [
    {
      "cell_type": "markdown",
      "source": [
        "\n",
        "## Ejercicio1.\n",
        "\n",
        "\n"
      ],
      "metadata": {
        "id": "Vm3BSN6_q_fX"
      }
    },
    {
      "cell_type": "code",
      "execution_count": 23,
      "metadata": {
        "colab": {
          "base_uri": "https://localhost:8080/"
        },
        "id": "MOt4I4rQq663",
        "outputId": "58069c28-3f76-4431-e88b-458a77b04823"
      },
      "outputs": [
        {
          "output_type": "stream",
          "name": "stdout",
          "text": [
            " Division de los numeros \n",
            " Por favor digite el dividendo: 14\n",
            " Por favor digite el divisor: 5\n",
            "Lastimosamente no es exacta. Cociente: 2\n",
            "Residuo:4\n"
          ]
        }
      ],
      "source": [
        "\n",
        "print(\" Division de los numeros \")\n",
        "dividendo = int(input(\" Por favor digite el dividendo: \"))\n",
        "divisor = int(input(\" Por favor digite el divisor: \"))\n",
        "\n",
        "if dividendo % divisor ==0:\n",
        "  print(f\"El dividendo es {dividendo}, el divisor es {divisor}\")\n",
        "  print(f\" Efectivamente la division es exacta. Cociente: {dividendo // divisor}\")\n",
        "else:\n",
        "\n",
        "  print(f\"Lastimosamente no es exacta. Cociente: {dividendo // divisor}\")\n",
        "  5\n",
        "  print(f\"Residuo:{dividendo % divisor}\")\n",
        "            \n",
        "    \n"
      ]
    },
    {
      "cell_type": "markdown",
      "source": [
        "## Ejercicio2.\n"
      ],
      "metadata": {
        "id": "mokoXc_BwR8Q"
      }
    },
    {
      "cell_type": "code",
      "source": [
        "print(\"Multiplos entre sí\")\n",
        "num1 = int(input(\" Escriba un número: \"))\n",
        "num2 = int(input(\" Por favor otro número: \"))\n",
        "\n",
        "if num1 >= num2 and num1 % num2 != 0:\n",
        "        print(f\"{num1} no es múltiplo de {num2}.\")\n",
        "elif num1 >= num2 and num1 % num2 == 0:\n",
        "        print(f\"{num1} es múltiplo de {num2}.\")\n",
        "elif num1 < num2 and num2 % num1 != 0:\n",
        "        print(f\"{num2} no es múltiplo de {num1}.\")\n",
        "else:\n",
        "        print(f\"{num2} es múltiplo de {num1}.\")"
      ],
      "metadata": {
        "colab": {
          "base_uri": "https://localhost:8080/"
        },
        "id": "Vb7IFg5ovHkK",
        "outputId": "2b451c55-28ec-45c9-af2a-a4f161378c45"
      },
      "execution_count": 41,
      "outputs": [
        {
          "output_type": "stream",
          "name": "stdout",
          "text": [
            "Multiplos entre sí\n",
            " Escriba un número: 48\n",
            " Por favor otro número: 9\n",
            "48 no es múltiplo de 9.\n"
          ]
        }
      ]
    },
    {
      "cell_type": "markdown",
      "source": [
        "##Ejercicio3."
      ],
      "metadata": {
        "id": "N8KRrIDkzVXB"
      }
    },
    {
      "cell_type": "code",
      "source": [
        "int(a ,b ,c)\n",
        "print(f\" INTRODUZCA LOS NUMEROS QUE SERAN LAS EDADES DE LOS HERMANOS \")\n",
        "\n"
      ],
      "metadata": {
        "id": "RkKloV0bzXM5"
      },
      "execution_count": null,
      "outputs": []
    }
  ]
}