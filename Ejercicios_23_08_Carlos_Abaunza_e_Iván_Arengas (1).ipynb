{
  "nbformat": 4,
  "nbformat_minor": 0,
  "metadata": {
    "colab": {
      "name": "Ejercicios 23-08 Carlos Abaunza e  Iván Arengas.ipynb",
      "provenance": [],
      "collapsed_sections": []
    },
    "kernelspec": {
      "name": "python3",
      "display_name": "Python 3"
    },
    "language_info": {
      "name": "python"
    }
  },
  "cells": [
    {
      "cell_type": "markdown",
      "source": [
        "#Estructuras de repetición"
      ],
      "metadata": {
        "id": "b02kJe4KYbQ-"
      }
    },
    {
      "cell_type": "markdown",
      "source": [
        "##Estructura de repetición para (for)\n",
        "for i in range(ci,pasos,cf):\n",
        "\n",
        "\n",
        "\n",
        "*   ci=valor inicial\n",
        "*   pasos=incremento\n",
        "*   cf=valor final\n"
      ],
      "metadata": {
        "id": "wq2ChhgtYH03"
      }
    },
    {
      "cell_type": "code",
      "execution_count": 18,
      "metadata": {
        "id": "4DR85XxqYGXW",
        "colab": {
          "base_uri": "https://localhost:8080/"
        },
        "outputId": "2f517d90-642d-4775-9c7b-162c45d38c05"
      },
      "outputs": [
        {
          "output_type": "stream",
          "name": "stdout",
          "text": [
            "Tabla del 1\n",
            "1*1= 1\n",
            "1*2= 2\n",
            "1*3= 3\n",
            "1*4= 4\n",
            "1*5= 5\n",
            "1*6= 6\n",
            "1*7= 7\n",
            "1*8= 8\n",
            "1*9= 9\n",
            "1*10= 10\n",
            "\n",
            "Tabla del 2\n",
            "2*1= 2\n",
            "2*2= 4\n",
            "2*3= 6\n",
            "2*4= 8\n",
            "2*5= 10\n",
            "2*6= 12\n",
            "2*7= 14\n",
            "2*8= 16\n",
            "2*9= 18\n",
            "2*10= 20\n",
            "\n",
            "Tabla del 3\n",
            "3*1= 3\n",
            "3*2= 6\n",
            "3*3= 9\n",
            "3*4= 12\n",
            "3*5= 15\n",
            "3*6= 18\n",
            "3*7= 21\n",
            "3*8= 24\n",
            "3*9= 27\n",
            "3*10= 30\n",
            "\n",
            "Tabla del 4\n",
            "4*1= 4\n",
            "4*2= 8\n",
            "4*3= 12\n",
            "4*4= 16\n",
            "4*5= 20\n",
            "4*6= 24\n",
            "4*7= 28\n",
            "4*8= 32\n",
            "4*9= 36\n",
            "4*10= 40\n",
            "\n",
            "Tabla del 5\n",
            "5*1= 5\n",
            "5*2= 10\n",
            "5*3= 15\n",
            "5*4= 20\n",
            "5*5= 25\n",
            "5*6= 30\n",
            "5*7= 35\n",
            "5*8= 40\n",
            "5*9= 45\n",
            "5*10= 50\n",
            "\n",
            "Tabla del 6\n",
            "6*1= 6\n",
            "6*2= 12\n",
            "6*3= 18\n",
            "6*4= 24\n",
            "6*5= 30\n",
            "6*6= 36\n",
            "6*7= 42\n",
            "6*8= 48\n",
            "6*9= 54\n",
            "6*10= 60\n",
            "\n",
            "Tabla del 7\n",
            "7*1= 7\n",
            "7*2= 14\n",
            "7*3= 21\n",
            "7*4= 28\n",
            "7*5= 35\n",
            "7*6= 42\n",
            "7*7= 49\n",
            "7*8= 56\n",
            "7*9= 63\n",
            "7*10= 70\n",
            "\n",
            "Tabla del 8\n",
            "8*1= 8\n",
            "8*2= 16\n",
            "8*3= 24\n",
            "8*4= 32\n",
            "8*5= 40\n",
            "8*6= 48\n",
            "8*7= 56\n",
            "8*8= 64\n",
            "8*9= 72\n",
            "8*10= 80\n",
            "\n",
            "Tabla del 9\n",
            "9*1= 9\n",
            "9*2= 18\n",
            "9*3= 27\n",
            "9*4= 36\n",
            "9*5= 45\n",
            "9*6= 54\n",
            "9*7= 63\n",
            "9*8= 72\n",
            "9*9= 81\n",
            "9*10= 90\n",
            "\n",
            "Tabla del 10\n",
            "10*1= 10\n",
            "10*2= 20\n",
            "10*3= 30\n",
            "10*4= 40\n",
            "10*5= 50\n",
            "10*6= 60\n",
            "10*7= 70\n",
            "10*8= 80\n",
            "10*9= 90\n",
            "10*10= 100\n",
            "\n",
            "Tabla del 11\n",
            "11*1= 11\n",
            "11*2= 22\n",
            "11*3= 33\n",
            "11*4= 44\n",
            "11*5= 55\n",
            "11*6= 66\n",
            "11*7= 77\n",
            "11*8= 88\n",
            "11*9= 99\n",
            "11*10= 110\n",
            "\n"
          ]
        }
      ],
      "source": [
        "#Realizar la tabla del n del 1 al 10\n",
        "n=0\n",
        "while n<11:\n",
        "  n=n+1\n",
        "  #n=int(input(\"Ingrese un número para generar su tabla de multiplicar. \"))\n",
        "  print(\"Tabla del\",n)\n",
        "\n",
        "  for i in range(1,11):\n",
        "    print(f\"{n}*{i}=\",n*i)\n",
        "  print(\"\")  \n"
      ]
    },
    {
      "cell_type": "code",
      "source": [
        "#Hacer un arbol con un digito\n",
        "a=int(input(\"Que altura debe tener el arbol? \"))\n",
        "n=\"*\"\n",
        "b=a\n",
        "c=1\n",
        "for i in range (1,a,1):\n",
        "  print(\" \"*b,n*(c))\n",
        "  b=b-1\n",
        "  c=c+2"
      ],
      "metadata": {
        "colab": {
          "base_uri": "https://localhost:8080/"
        },
        "id": "pYvcggR-e05q",
        "outputId": "8ae7d7af-c2b7-441e-f8d1-8d416dde37a2"
      },
      "execution_count": 17,
      "outputs": [
        {
          "output_type": "stream",
          "name": "stdout",
          "text": [
            "Que altura debe tener el arbol? 10\n",
            "           *\n",
            "          ***\n",
            "         *****\n",
            "        *******\n",
            "       *********\n",
            "      ***********\n",
            "     *************\n",
            "    ***************\n",
            "   *****************\n"
          ]
        }
      ]
    },
    {
      "cell_type": "code",
      "source": [
        "/////////\n",
        "n=int(input())\n",
        "\n",
        "while n==n%1==0 and n==n:\n",
        "  print(\"El número es primo\")\n",
        "  if n==n*1 and n==n:\n",
        "    break"
      ],
      "metadata": {
        "colab": {
          "base_uri": "https://localhost:8080/"
        },
        "id": "BuRfp-iPlvCw",
        "outputId": "699fa78b-06f6-4001-9b02-d431a5558693"
      },
      "execution_count": 20,
      "outputs": [
        {
          "name": "stdout",
          "output_type": "stream",
          "text": [
            "5\n"
          ]
        }
      ]
    },
    {
      "cell_type": "markdown",
      "source": [
        "#7"
      ],
      "metadata": {
        "id": "NMLv1zFgn02u"
      }
    },
    {
      "cell_type": "code",
      "source": [
        "n=100\n",
        "a=0\n",
        "while n<101 and n>=10:\n",
        "  print(n,\"+\")\n",
        "  a=a+n\n",
        "  n=n-10\n",
        "  if n==0:\n",
        "    break\n",
        "print(\"Resultado:\",a)\n",
        "  "
      ],
      "metadata": {
        "colab": {
          "base_uri": "https://localhost:8080/"
        },
        "id": "VR2ZpvSkn2I2",
        "outputId": "77ed39ff-851e-46a2-997e-3c802d20c2a5"
      },
      "execution_count": 76,
      "outputs": [
        {
          "output_type": "stream",
          "name": "stdout",
          "text": [
            "100 +\n",
            "90 +\n",
            "80 +\n",
            "70 +\n",
            "60 +\n",
            "50 +\n",
            "40 +\n",
            "30 +\n",
            "20 +\n",
            "10 +\n",
            "Resultado: 550\n"
          ]
        }
      ]
    },
    {
      "cell_type": "code",
      "source": [
        "n=100\n",
        "a=0\n",
        "i=0\n",
        "print(n,\"+\")\n",
        "for i in range (10):\n",
        "  a=a+n\n",
        "  n=n+(-10)\n",
        "  print(n,\"+\")\n",
        "print(\"Resultado:\",a)"
      ],
      "metadata": {
        "colab": {
          "base_uri": "https://localhost:8080/"
        },
        "id": "NkGhtrCaqCTq",
        "outputId": "92403ae8-ebf1-49ce-8d21-6c1fed4817c6"
      },
      "execution_count": 91,
      "outputs": [
        {
          "output_type": "stream",
          "name": "stdout",
          "text": [
            "100 +\n",
            "90 +\n",
            "80 +\n",
            "70 +\n",
            "60 +\n",
            "50 +\n",
            "40 +\n",
            "30 +\n",
            "20 +\n",
            "10 +\n",
            "0 +\n",
            "Resultado: 550\n"
          ]
        }
      ]
    },
    {
      "cell_type": "markdown",
      "source": [
        "#9"
      ],
      "metadata": {
        "id": "DziLV7LVqhU9"
      }
    },
    {
      "cell_type": "code",
      "source": [
        "n=int(input(\"Ingrese N: \"))\n",
        "a=2\n",
        "b=1\n",
        "i=1\n",
        "d=0\n",
        "while i<n:\n",
        "  print(f\"{a}/{b}+\")\n",
        "  c=d+d\n",
        "  d=a/b\n",
        "  i=i+1\n",
        "  a=a+2\n",
        "  b=b+2\n",
        "  if i==n:\n",
        "    break\n",
        "\n",
        "print(\"Resultado:\",c)"
      ],
      "metadata": {
        "colab": {
          "base_uri": "https://localhost:8080/"
        },
        "id": "Z51qhOu9qfiP",
        "outputId": "0bfb9e12-3389-46b6-db59-c136768f15de"
      },
      "execution_count": 42,
      "outputs": [
        {
          "output_type": "stream",
          "name": "stdout",
          "text": [
            "Ingrese N: 10\n",
            "2/1+\n",
            "4/3+\n",
            "6/5+\n",
            "8/7+\n",
            "10/9+\n",
            "12/11+\n",
            "14/13+\n",
            "16/15+\n",
            "18/17+\n",
            "Resultado: 2.1333333333333333\n"
          ]
        }
      ]
    },
    {
      "cell_type": "code",
      "source": [
        "n=int(input(\"Ingrese N: \"))\n",
        "a=2\n",
        "b=1\n",
        "d=0\n",
        "for i in range (1,n):\n",
        "  print(f\"{a}/{b}+\")\n",
        "  c=d+d\n",
        "  d=a/b\n",
        "  i=i+1\n",
        "  a=a+2\n",
        "  b=b+2\n",
        "\n",
        "print(\"Resultado:\",c)"
      ],
      "metadata": {
        "colab": {
          "base_uri": "https://localhost:8080/"
        },
        "id": "po2u0Yx8rv4a",
        "outputId": "32c303f8-4a1d-4906-f0a6-bbffb57f19eb"
      },
      "execution_count": 43,
      "outputs": [
        {
          "output_type": "stream",
          "name": "stdout",
          "text": [
            "Ingrese N: 10\n",
            "2/1+\n",
            "4/3+\n",
            "6/5+\n",
            "8/7+\n",
            "10/9+\n",
            "12/11+\n",
            "14/13+\n",
            "16/15+\n",
            "18/17+\n",
            "Resultado: 2.1333333333333333\n"
          ]
        }
      ]
    },
    {
      "cell_type": "markdown",
      "source": [
        "#10"
      ],
      "metadata": {
        "id": "HruLRYhssCMh"
      }
    },
    {
      "cell_type": "code",
      "source": [
        "n=int(input(\"Ingrese un número entre 1 y 10: \"))\n",
        "a=0\n",
        "while n<=10 and n>=1:\n",
        "  a=a+n\n",
        "  n=int(input(\"Ingrese un número entre 1 y 10: \"))\n",
        "  \n",
        "print(a)"
      ],
      "metadata": {
        "colab": {
          "base_uri": "https://localhost:8080/"
        },
        "id": "BkCwITDOsTsN",
        "outputId": "ab0f8ace-e1c9-4aa4-aa95-4ccbf5c4434e"
      },
      "execution_count": 56,
      "outputs": [
        {
          "output_type": "stream",
          "name": "stdout",
          "text": [
            "Ingrese un número entre 1 y 10: 2\n",
            "Ingrese un número entre 1 y 10: 9\n",
            "Ingrese un número entre 1 y 10: 3\n",
            "Ingrese un número entre 1 y 10: 0\n",
            "14\n"
          ]
        }
      ]
    },
    {
      "cell_type": "code",
      "source": [
        "n=int(input(\"Ingrese un número entre 1 y 10: \"))\n",
        "a=0\n",
        "for i in range (1,10):\n",
        "  a=a+n\n",
        "  print(\"Suma:\",a)\n",
        "  n=int(input(\"Ingrese un número entre 1 y 10: \"))\n",
        "  i=n\n",
        "  if n>10 or n<1:\n",
        "    break\n",
        "\n",
        "print(\"Total:\",a)\n",
        "  "
      ],
      "metadata": {
        "colab": {
          "base_uri": "https://localhost:8080/"
        },
        "id": "TrIEqe63tYCf",
        "outputId": "1e14cc8c-a252-4066-841b-6811ab879627"
      },
      "execution_count": 67,
      "outputs": [
        {
          "output_type": "stream",
          "name": "stdout",
          "text": [
            "Ingrese un número entre 1 y 10: 5\n",
            "Suma: 5\n",
            "Ingrese un número entre 1 y 10: 9\n",
            "Suma: 14\n",
            "Ingrese un número entre 1 y 10: 7\n",
            "Suma: 21\n",
            "Ingrese un número entre 1 y 10: 3\n",
            "Suma: 24\n",
            "Ingrese un número entre 1 y 10: 33\n",
            "Total: 24\n"
          ]
        }
      ]
    },
    {
      "cell_type": "markdown",
      "source": [
        "#6"
      ],
      "metadata": {
        "id": "RgylR47LutrF"
      }
    },
    {
      "cell_type": "code",
      "source": [
        "#Realizar la tabla del n del 1 al 10\n",
        "n=int(input(\"Ingrese un número para escribir su tabla: \"))\n",
        "print(\"Tabla del\",n)\n",
        "for i in range(1,11):\n",
        "  print(f\"{n}*{i}=\",n*i)\n"
      ],
      "metadata": {
        "colab": {
          "base_uri": "https://localhost:8080/"
        },
        "id": "BrPKT5nGutPF",
        "outputId": "01b7b2ad-3416-46e1-8f41-c0c41fe45e95"
      },
      "execution_count": 74,
      "outputs": [
        {
          "output_type": "stream",
          "name": "stdout",
          "text": [
            "Ingrese un número para escribir su tabla: 5\n",
            "Tabla del 5\n",
            "5*1= 5\n",
            "5*2= 10\n",
            "5*3= 15\n",
            "5*4= 20\n",
            "5*5= 25\n",
            "5*6= 30\n",
            "5*7= 35\n",
            "5*8= 40\n",
            "5*9= 45\n",
            "5*10= 50\n"
          ]
        }
      ]
    },
    {
      "cell_type": "code",
      "source": [
        "n=int(input(\"Ingrese un número para escribir su tabla: \"))\n",
        "i=1\n",
        "print(\"Tabla del\",n)\n",
        "while i>0:\n",
        "  print(f\"{n}*{i}=\",n*i)\n",
        "  i=i+1\n",
        "  if i==11:\n",
        "    break"
      ],
      "metadata": {
        "colab": {
          "base_uri": "https://localhost:8080/"
        },
        "id": "SYMXMSWBwOj4",
        "outputId": "68e9f366-1bf5-4491-f274-9339f78c242f"
      },
      "execution_count": 75,
      "outputs": [
        {
          "output_type": "stream",
          "name": "stdout",
          "text": [
            "Ingrese un número para escribir su tabla: 5\n",
            "Tabla del 5\n",
            "5*1= 5\n",
            "5*2= 10\n",
            "5*3= 15\n",
            "5*4= 20\n",
            "5*5= 25\n",
            "5*6= 30\n",
            "5*7= 35\n",
            "5*8= 40\n",
            "5*9= 45\n",
            "5*10= 50\n"
          ]
        }
      ]
    },
    {
      "cell_type": "markdown",
      "source": [
        "#3"
      ],
      "metadata": {
        "id": "-MhV7vdw0mQ3"
      }
    },
    {
      "cell_type": "code",
      "source": [
        "n=int(input(\"Ingrese un número: \"))\n",
        "factorial=1\n",
        "if n<0:\n",
        "  print(\"No hay factorial para números negativos\")\n",
        "else:\n",
        "  if n!=0:\n",
        "    for i in range(1,n+1):\n",
        "      factorial=factorial*i\n",
        "    print(\"Factorial:\", factorial)"
      ],
      "metadata": {
        "colab": {
          "base_uri": "https://localhost:8080/"
        },
        "id": "hBV11oAs0lxY",
        "outputId": "4f12a12c-f940-4076-acac-f8469e114e5e"
      },
      "execution_count": 93,
      "outputs": [
        {
          "output_type": "stream",
          "name": "stdout",
          "text": [
            "Ingrese un número: -9\n",
            "No hay factorial para números negativos\n"
          ]
        }
      ]
    }
  ]
}