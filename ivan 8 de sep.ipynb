{
  "nbformat": 4,
  "nbformat_minor": 0,
  "metadata": {
    "colab": {
      "provenance": []
    },
    "kernelspec": {
      "name": "python3",
      "display_name": "Python 3"
    },
    "language_info": {
      "name": "python"
    }
  },
  "cells": [
    {
      "cell_type": "code",
      "execution_count": 5,
      "metadata": {
        "colab": {
          "base_uri": "https://localhost:8080/",
          "height": 755
        },
        "id": "Twn8m7hMEd4Z",
        "outputId": "59b141e1-274d-4982-9980-630acb4881f1"
      },
      "outputs": [
        {
          "name": "stdout",
          "output_type": "stream",
          "text": [
            "Que combo quieres ordenar ?\n",
            "Ingrese el combo que quieres pedir\n",
            "(1)combo 1 ($20.000)\n",
            "(2)combo 2($25.000)\n",
            "(3)combo 3($18.000)\n",
            "(4)Combo 4($24.500)\n",
            "(si no escoges te daremos nuestro mejor combo el combo) \n",
            "1\n",
            "quieres alguna adicion a tu pedido ?\n",
            "Ingrese la adicion\n",
            "(1)papas fritas ($3000)\n",
            "(2)aritos de cebolla ($3000)\n",
            "1\n",
            "quieres alguna bebida ?\n",
            "Ingrese la bebida\n",
            "(1)jugo natural ($7000)\n",
            "(2)Cerveza ($3500)\n",
            "(3)agua ($4000)\n",
            "(4)sin bebida\n",
            "1\n",
            "el valor total a pagar es de  30000\n",
            "tu combo fue el  1\n",
            "tu adiccion fue la  1\n",
            "tu bebida fue la  1\n",
            "nsiguiente cliente\n",
            " (1) si \n",
            " (2) no\n",
            "\n",
            "siguiente cliente\n",
            "1\n"
          ]
        },
        {
          "output_type": "error",
          "ename": "NameError",
          "evalue": "ignored",
          "traceback": [
            "\u001b[0;31m---------------------------------------------------------------------------\u001b[0m",
            "\u001b[0;31mNameError\u001b[0m                                 Traceback (most recent call last)",
            "\u001b[0;32m<ipython-input-5-75ba3042bd89>\u001b[0m in \u001b[0;36m<module>\u001b[0;34m\u001b[0m\n\u001b[1;32m     33\u001b[0m     \u001b[0mcontinuar\u001b[0m\u001b[0;34m=\u001b[0m\u001b[0minput\u001b[0m\u001b[0;34m(\u001b[0m\u001b[0;34m\"\\nsiguiente cliente\\n\"\u001b[0m\u001b[0;34m)\u001b[0m\u001b[0;34m\u001b[0m\u001b[0;34m\u001b[0m\u001b[0m\n\u001b[1;32m     34\u001b[0m \u001b[0;34m\u001b[0m\u001b[0m\n\u001b[0;32m---> 35\u001b[0;31m     \u001b[0mcontador\u001b[0m\u001b[0;34m=\u001b[0m\u001b[0mcontador\u001b[0m\u001b[0;34m+\u001b[0m\u001b[0mcosto\u001b[0m\u001b[0;34m\u001b[0m\u001b[0;34m\u001b[0m\u001b[0m\n\u001b[0m\u001b[1;32m     36\u001b[0m     \u001b[0;32mif\u001b[0m \u001b[0mcontinuar\u001b[0m\u001b[0;34m==\u001b[0m\u001b[0;36m1\u001b[0m\u001b[0;34m:\u001b[0m\u001b[0;34m\u001b[0m\u001b[0;34m\u001b[0m\u001b[0m\n\u001b[1;32m     37\u001b[0m       \u001b[0;32mcontinue\u001b[0m\u001b[0;34m\u001b[0m\u001b[0;34m\u001b[0m\u001b[0m\n",
            "\u001b[0;31mNameError\u001b[0m: name 'contador' is not defined"
          ]
        }
      ],
      "source": [
        "combos={\"combos\":['Combo 1','Combo 2','Combo 3','Combo 4']}\n",
        "bebidas={\"bebidas\":['jugos natural','cerveza','agua',\"gaseosa\", \"sin bebida\"]}\n",
        "adiciones={\"adiciones\":['papas fritas','aritos de cebolla']}\n",
        "\n",
        "\n",
        "while True:\n",
        "    class combos:\n",
        "      combos=[]\n",
        "      costo=0\n",
        "    print(\"Que combo quieres ordenar ?\")\n",
        "    cating=int(input(\"Ingrese el combo que quieres pedir\\n(1)combo 1 ($20.000)\\n(2)combo 2($25.000)\\n(3)combo 3($18.000)\\n(4)Combo 4($24.500)\\n(si no escoges te daremos nuestro mejor combo el combo) \\n\"))\n",
        "    combos.costo=20000 if cating==1 else 25000 if cating==2 else 18000 if cating==3 else 24500 if cating==4 else pedido.costo\n",
        "\n",
        "    class papitas:\n",
        "      costo=combos.costo\n",
        "    print(\"quieres alguna adicion a tu pedido ?\")\n",
        "    anexo=int(input(\"Ingrese la adicion\\n(1)papas fritas ($3000)\\n(2)aritos de cebolla ($3000)\\n\"))\n",
        "    papitas.costo=3000 if anexo==1 or anexo==2 else combos.costo\n",
        "\n",
        "    class bebida:\n",
        "      costo=combos.costo+papitas.costo\n",
        "    print(\"quieres alguna bebida ?\")\n",
        "    anexo2=int(input(\"Ingrese la bebida\\n(1)jugo natural ($7000)\\n(2)Cerveza ($3500)\\n(3)agua ($4000)\\n(4)sin bebida\\n\"))\n",
        "    bebida.costo=7000 if anexo2==1 else  3500 if anexo2==2 else 4000  if anexo==3 else 0 \n",
        "\n",
        "    costo=combos.costo+papitas.costo+bebida.costo\n",
        "    print(\"el valor total a pagar es de \",costo )\n",
        "    print(\"tu combo fue el \",cating )\n",
        "    print(\"tu adiccion fue la \",anexo )\n",
        "    print(\"tu bebida fue la \",anexo2 )\n",
        "\n",
        "    print(\"nsiguiente cliente\\n (1) si \\n (2) no\")\n",
        "    continuar=input(\"\\nsiguiente cliente\\n\")\n",
        " \n",
        "    if continuar==1:\n",
        "      continue  \n",
        "    else:\n",
        "      break\n",
        "\n"
      ]
    }
  ]
}