{
  "nbformat": 4,
  "nbformat_minor": 0,
  "metadata": {
    "colab": {
      "provenance": []
    },
    "kernelspec": {
      "name": "python3",
      "display_name": "Python 3"
    },
    "language_info": {
      "name": "python"
    }
  },
  "cells": [
    {
      "cell_type": "markdown",
      "source": [
        "##Iván Arengas.CQ6. Definición y ejemplo de estas palabras.\n",
        "####False: Es un ejemplo de una variable de tipo booleana junto con True."
      ],
      "metadata": {
        "id": "vX4jJmsfVWgn"
      }
    },
    {
      "cell_type": "code",
      "execution_count": 8,
      "metadata": {
        "colab": {
          "base_uri": "https://localhost:8080/"
        },
        "id": "VhDkz9ERS1Ak",
        "outputId": "292d7be4-3735-4f72-a280-e4f00ab442dd"
      },
      "outputs": [
        {
          "output_type": "stream",
          "name": "stdout",
          "text": [
            "True\n",
            "False\n",
            "False\n"
          ]
        }
      ],
      "source": [
        "print(10 >= 9)\n",
        "print(10 == 9)\n",
        "print(10 < 9)\n",
        "\n"
      ]
    },
    {
      "cell_type": "markdown",
      "source": [
        "##Class: Es un tipo de dato que se define por medio el usuario, al crear una clase, se permite crear un nuevo tipo de objeto."
      ],
      "metadata": {
        "id": "YGqzY0ojaNTl"
      }
    },
    {
      "cell_type": "code",
      "source": [
        "class Person:\n",
        "  def __init__(self, name, age):\n",
        "    self.name = name\n",
        "    self.age = age\n",
        "\n",
        "p1 = Person(\"Iván\",17)\n",
        "\n",
        "print(p1.name)\n",
        "print(p1.age)"
      ],
      "metadata": {
        "colab": {
          "base_uri": "https://localhost:8080/"
        },
        "id": "NkalXsToaj8e",
        "outputId": "ec0d7a27-3225-4988-d03a-9992a84037d3"
      },
      "execution_count": 9,
      "outputs": [
        {
          "output_type": "stream",
          "name": "stdout",
          "text": [
            "Iván\n",
            "17\n"
          ]
        }
      ]
    },
    {
      "cell_type": "markdown",
      "source": [
        "##finally: es una sentencia que se pone para el manejo de errores de ejecución"
      ],
      "metadata": {
        "id": "GylnW976d_HR"
      }
    },
    {
      "cell_type": "code",
      "source": [
        "try:\n",
        "  x > 3\n",
        "except:\n",
        "  print(\"Algo salió mal bro\")\n",
        "else:\n",
        "  print(\"Todo correcto bro\")\n",
        "finally:\n",
        "  print(\"Este bloque ha terminado bro\") "
      ],
      "metadata": {
        "colab": {
          "base_uri": "https://localhost:8080/"
        },
        "id": "dh7JY8fyeHdX",
        "outputId": "d9b7c765-5c18-4f83-bdcb-e6592e12d49a"
      },
      "execution_count": 15,
      "outputs": [
        {
          "output_type": "stream",
          "name": "stdout",
          "text": [
            "Algo salió mal bro\n",
            "Este bloque ha terminado bro\n"
          ]
        }
      ]
    },
    {
      "cell_type": "markdown",
      "source": [
        "## is: es un comparador de identidad estricto"
      ],
      "metadata": {
        "id": "tpXRmdVSgERV"
      }
    },
    {
      "cell_type": "code",
      "source": [
        "num=int(input(' Introduce un número '))\n",
        "if num is 23:\n",
        "  print('Ambos números son iguales (23 y 23) ')\n",
        "else:\n",
        "  print(' El número que digitaste es diferente de 23 ')"
      ],
      "metadata": {
        "colab": {
          "base_uri": "https://localhost:8080/"
        },
        "id": "lQJfqtn0gMD4",
        "outputId": "8ed85a2e-8e92-4400-df57-f3402cee8af1"
      },
      "execution_count": 20,
      "outputs": [
        {
          "output_type": "stream",
          "name": "stdout",
          "text": [
            " Introduce un número 23\n",
            "Ambos números son iguales (23 y 23) \n"
          ]
        }
      ]
    },
    {
      "cell_type": "markdown",
      "source": [
        "##return: indica que finaliza una función y el valor que devuelve dicha función"
      ],
      "metadata": {
        "id": "4Jor3hGOg9wV"
      }
    },
    {
      "cell_type": "code",
      "source": [
        "def resta(num1, num2):\n",
        "  return num1 - num2\n",
        "\n",
        "resta(23, 7)"
      ],
      "metadata": {
        "colab": {
          "base_uri": "https://localhost:8080/"
        },
        "id": "Ea1BU9OchBmm",
        "outputId": "9c7617c1-ac12-4ceb-c79a-1cb9062ce723"
      },
      "execution_count": 22,
      "outputs": [
        {
          "output_type": "execute_result",
          "data": {
            "text/plain": [
              "16"
            ]
          },
          "metadata": {},
          "execution_count": 22
        }
      ]
    },
    {
      "cell_type": "markdown",
      "source": [
        "##None: es el único valor del tipo de dato NoneType"
      ],
      "metadata": {
        "id": "uc01U41VhOBy"
      }
    },
    {
      "cell_type": "code",
      "source": [
        "i = None\n",
        "\n",
        "if i:\n",
        "  print(\"¿Crees que None es verdadera?\")\n",
        "elif i is False:\n",
        "  print (\"Crees que None es falso?\")\n",
        "else:\n",
        "  print(\"None no es ni verdadero o falso solamente es None :)\")\n"
      ],
      "metadata": {
        "colab": {
          "base_uri": "https://localhost:8080/"
        },
        "id": "KIonuo61hQ7E",
        "outputId": "9f547336-c5be-4ec7-d52c-255290147d45"
      },
      "execution_count": 23,
      "outputs": [
        {
          "output_type": "stream",
          "name": "stdout",
          "text": [
            "None no es ni verdadero,ni falsa, solamente es None :)\n"
          ]
        }
      ]
    },
    {
      "cell_type": "markdown",
      "source": [
        "##continue: es una instrucción que permite \"omitir la parte de un bucle en la que se activa una condición externa, pero continuar para completar el resto del bucle.\""
      ],
      "metadata": {
        "id": "wK27wf6EiBrt"
      }
    },
    {
      "cell_type": "code",
      "source": [
        "for i in range(7):\n",
        "  if i == 3:\n",
        "    continue\n",
        "  print(i)\n"
      ],
      "metadata": {
        "colab": {
          "base_uri": "https://localhost:8080/"
        },
        "id": "b51TaOq1iHXs",
        "outputId": "4e7d4c6a-f8ea-4e96-c871-be54c1567e24"
      },
      "execution_count": 25,
      "outputs": [
        {
          "output_type": "stream",
          "name": "stdout",
          "text": [
            "0\n",
            "1\n",
            "2\n",
            "4\n",
            "5\n",
            "6\n"
          ]
        }
      ]
    },
    {
      "cell_type": "markdown",
      "source": [
        "##for: es un tipo de ciclo de repetición en el que se recorren los elementos de un objeto iterable como una lista"
      ],
      "metadata": {
        "id": "0nJdCCmyiyjI"
      }
    },
    {
      "cell_type": "code",
      "source": [
        "frutas = [\"manzana\", \"banana\", \"mora\",\"fresa\"]\n",
        "\n",
        "for x in frutas:\n",
        "  print(x)\n"
      ],
      "metadata": {
        "colab": {
          "base_uri": "https://localhost:8080/"
        },
        "id": "O4PanPdli3zJ",
        "outputId": "26b65967-81a3-42f1-c809-9a5f804a634f"
      },
      "execution_count": 26,
      "outputs": [
        {
          "output_type": "stream",
          "name": "stdout",
          "text": [
            "manzana\n",
            "banana\n",
            "mora\n",
            "fresa\n"
          ]
        }
      ]
    },
    {
      "cell_type": "markdown",
      "source": [
        "##Lambda: es un tipo de función anónima ya que se define sin un nombre"
      ],
      "metadata": {
        "id": "rLmAL9H5jJAg"
      }
    },
    {
      "cell_type": "code",
      "source": [
        "i = lambda a, b, c : a + b + c\n",
        "\n",
        "print(i(5, 6, 2))\n"
      ],
      "metadata": {
        "colab": {
          "base_uri": "https://localhost:8080/"
        },
        "id": "cQe6nkZfjN_g",
        "outputId": "f8e467d9-3bbd-4ac3-b9c0-82091394c279"
      },
      "execution_count": 27,
      "outputs": [
        {
          "output_type": "stream",
          "name": "stdout",
          "text": [
            "13\n"
          ]
        }
      ]
    },
    {
      "cell_type": "markdown",
      "source": [
        "#try: bloque que contiene el código a ejecutar, pero si hay errores de ejecución se deja de ejecutar"
      ],
      "metadata": {
        "id": "b-nglcvdjnGC"
      }
    },
    {
      "cell_type": "code",
      "source": [
        "dividendo=int(input(' Digita el dividendo '))\n",
        "divisor=int(input( 'Digita el divisor '))\n",
        "\n",
        "try:\n",
        "    op = (dividendo/ divisor)\n",
        "    print(op)\n",
        "except ZeroDivisionError:\n",
        "    print(\" Lastimosamente no puedes dividir por cero, eso es Inválido \")"
      ],
      "metadata": {
        "colab": {
          "base_uri": "https://localhost:8080/"
        },
        "id": "XCB5ycHfjs3F",
        "outputId": "5cb04288-1d86-46e3-a64e-947a60dea99b"
      },
      "execution_count": 34,
      "outputs": [
        {
          "output_type": "stream",
          "name": "stdout",
          "text": [
            " Digita el dividendo 9\n",
            "Digita el divisor 0\n",
            " Lastimosamente no puedes dividir por cero, eso es Inválido \n"
          ]
        }
      ]
    },
    {
      "cell_type": "markdown",
      "source": [
        "##True: Es un ejemplo de una variable de tipo booleana junto con False."
      ],
      "metadata": {
        "id": "yH3MRcW6mFLv"
      }
    },
    {
      "cell_type": "code",
      "source": [
        "print(5 < 6)\n",
        "\n",
        "print(2 in [1,2,3])\n",
        "\n",
        "print(5 is 5)\n",
        "\n",
        "print(5 == 5)\n",
        "\n",
        "print(\"hello\" is not \"goodbye\")\n",
        "\n",
        "print(4 not in [1,2,3])"
      ],
      "metadata": {
        "colab": {
          "base_uri": "https://localhost:8080/"
        },
        "id": "l8BWmzHumVwI",
        "outputId": "b01c8881-5cb5-4eeb-ec2e-df252bb81831"
      },
      "execution_count": 36,
      "outputs": [
        {
          "output_type": "stream",
          "name": "stdout",
          "text": [
            "True\n",
            "True\n",
            "True\n",
            "True\n",
            "True\n",
            "True\n"
          ]
        }
      ]
    },
    {
      "cell_type": "markdown",
      "source": [
        "##def: sentencia para definir una función escrita por el programador"
      ],
      "metadata": {
        "id": "x3kx3sLQnnN-"
      }
    },
    {
      "cell_type": "code",
      "source": [
        "def x(num1, num2):\n",
        "  return num1 / num2\n",
        "\n",
        "x(100, 10)"
      ],
      "metadata": {
        "colab": {
          "base_uri": "https://localhost:8080/"
        },
        "id": "eBnqEG6pnmBZ",
        "outputId": "286b7218-58ba-4487-9b74-2f0003b7ac99"
      },
      "execution_count": 42,
      "outputs": [
        {
          "output_type": "execute_result",
          "data": {
            "text/plain": [
              "10.0"
            ]
          },
          "metadata": {},
          "execution_count": 42
        }
      ]
    },
    {
      "cell_type": "markdown",
      "source": [
        "##from: indicar exactamente la importanción de un objeto de una libreria"
      ],
      "metadata": {
        "id": "73XLqrNaoTmO"
      }
    },
    {
      "cell_type": "code",
      "source": [
        "from math import e\n",
        "print(e)"
      ],
      "metadata": {
        "colab": {
          "base_uri": "https://localhost:8080/"
        },
        "id": "sOdMgHEaoT7O",
        "outputId": "2a71e401-53f1-4fa0-9596-92ab4589b359"
      },
      "execution_count": 43,
      "outputs": [
        {
          "output_type": "stream",
          "name": "stdout",
          "text": [
            "2.718281828459045\n"
          ]
        }
      ]
    },
    {
      "cell_type": "markdown",
      "source": [
        "##nonlocal: indica que una variable no se encuentra en la función declarada\n",
        "\n"
      ],
      "metadata": {
        "id": "WRkHTRUknb7D"
      }
    },
    {
      "cell_type": "code",
      "source": [
        "def f1():\n",
        "  n = \"7\"\n",
        "  def f2():\n",
        "    nonlocal n\n",
        "    n = \"8\"\n",
        "  f2()\n",
        "  return n\n",
        "\n",
        "print(f1())"
      ],
      "metadata": {
        "colab": {
          "base_uri": "https://localhost:8080/"
        },
        "id": "p-wtAqpRmv0n",
        "outputId": "8f0a410c-0c4c-456a-8269-b4180a609aed"
      },
      "execution_count": 37,
      "outputs": [
        {
          "output_type": "stream",
          "name": "stdout",
          "text": [
            "8\n"
          ]
        }
      ]
    },
    {
      "cell_type": "markdown",
      "source": [
        "##while: ciclo de repetición en el que se evalúa una condición y el bucle se ejecuta si se cumple"
      ],
      "metadata": {
        "id": "hmSqOqm_nPNB"
      }
    },
    {
      "cell_type": "code",
      "source": [
        "i=0\n",
        "while True:\n",
        "    i+=1\n",
        "    print(i)\n",
        "    if i==5:\n",
        "        break"
      ],
      "metadata": {
        "colab": {
          "base_uri": "https://localhost:8080/"
        },
        "id": "I2GFxxUNop2J",
        "outputId": "9983182d-9a7a-4ef9-b9a7-10db4c0e2782"
      },
      "execution_count": 46,
      "outputs": [
        {
          "output_type": "stream",
          "name": "stdout",
          "text": [
            "1\n",
            "2\n",
            "3\n",
            "4\n",
            "5\n"
          ]
        }
      ]
    },
    {
      "cell_type": "markdown",
      "source": [
        "## and: operador para evaluar si dos condiciones se cumplen al mismo tiempo\n",
        "\n"
      ],
      "metadata": {
        "id": "v2N9kUQBpJCR"
      }
    },
    {
      "cell_type": "code",
      "source": [
        "num=int(input('Ingresa un número'))\n",
        "if num>0 and num<5:\n",
        "  print(f\"El número\" ,num, \" es mayor que 0 y menor que 5\")"
      ],
      "metadata": {
        "colab": {
          "base_uri": "https://localhost:8080/"
        },
        "id": "ZWhdI1jhpJdH",
        "outputId": "53b885db-b5a0-41b3-831e-30940563a018"
      },
      "execution_count": 49,
      "outputs": [
        {
          "output_type": "stream",
          "name": "stdout",
          "text": [
            "Ingresa un número1\n",
            "El número 1  es mayor que 0 y menor que 5\n"
          ]
        }
      ]
    },
    {
      "cell_type": "markdown",
      "source": [
        "##del: se utiliza para eliminar variables, objetos,listas, diccionarios, entre otros"
      ],
      "metadata": {
        "id": "4YHv1fDzpigk"
      }
    },
    {
      "cell_type": "code",
      "source": [
        "lista=[1,2,3,4,5,6,7,8,9]\n",
        "del lista [6]\n",
        "print(lista)"
      ],
      "metadata": {
        "colab": {
          "base_uri": "https://localhost:8080/"
        },
        "id": "WPGhxrndpyuW",
        "outputId": "5a23c0d5-01e4-4995-919d-160d2ddc7948"
      },
      "execution_count": 55,
      "outputs": [
        {
          "output_type": "stream",
          "name": "stdout",
          "text": [
            "[1, 2, 3, 4, 5, 6, 8, 9]\n"
          ]
        }
      ]
    },
    {
      "cell_type": "markdown",
      "source": [
        "## global: una variable global hace referencia a una variable que se puede llamar desde cualquier línea del código"
      ],
      "metadata": {
        "id": "kLjX9nbdqVlK"
      }
    },
    {
      "cell_type": "code",
      "source": [
        "x = \"Increíble\"\n",
        "\n",
        "def myfunc():\n",
        "  x = \"Fantástico\"\n",
        "  print(\"Programación es \" + x)\n",
        "\n",
        "myfunc()\n",
        "\n",
        "print(\"Prpgramación es \" + x)"
      ],
      "metadata": {
        "colab": {
          "base_uri": "https://localhost:8080/"
        },
        "id": "NZcqQPRFqZni",
        "outputId": "09cfd8fd-fee3-4000-e813-648ac6e1bb7e"
      },
      "execution_count": 63,
      "outputs": [
        {
          "output_type": "stream",
          "name": "stdout",
          "text": [
            "Programación es Fantástico\n",
            "Prpgramación es Increíble\n"
          ]
        }
      ]
    },
    {
      "cell_type": "markdown",
      "source": [
        "## not: es un operador lógico que muestra el opuesto del valor booleano\n",
        "\n"
      ],
      "metadata": {
        "id": "F0RQnnlZrTNx"
      }
    },
    {
      "cell_type": "code",
      "source": [
        "x = False\n",
        "print(not x)\n"
      ],
      "metadata": {
        "colab": {
          "base_uri": "https://localhost:8080/"
        },
        "id": "oZCEhUJyrjXz",
        "outputId": "94d0345a-0c99-4af6-a0a1-7b380bc24a68"
      },
      "execution_count": 64,
      "outputs": [
        {
          "output_type": "stream",
          "name": "stdout",
          "text": [
            "True\n"
          ]
        }
      ]
    },
    {
      "cell_type": "markdown",
      "source": [
        "as y with: sentencia para modificar la ejecución de un código con métodos determinados por el programador"
      ],
      "metadata": {
        "id": "5CSazmEkrwi4"
      }
    },
    {
      "cell_type": "code",
      "source": [
        "import calendar as c\n",
        "\n",
        "print(c.month_name[1])"
      ],
      "metadata": {
        "colab": {
          "base_uri": "https://localhost:8080/"
        },
        "id": "B016s9F8r78M",
        "outputId": "bd4b5d41-63fa-48fa-f697-f3c2c7f8d73b"
      },
      "execution_count": 67,
      "outputs": [
        {
          "output_type": "stream",
          "name": "stdout",
          "text": [
            "January\n"
          ]
        }
      ]
    },
    {
      "cell_type": "code",
      "source": [
        "with open('file_path','w') as file:\n",
        "  file.write('hello world!')"
      ],
      "metadata": {
        "id": "UzjQHyyWtcEc"
      },
      "execution_count": 77,
      "outputs": []
    },
    {
      "cell_type": "markdown",
      "source": [
        "##elif: permite evaluar otra condición después del if"
      ],
      "metadata": {
        "id": "IRaHzlDQtcbp"
      }
    },
    {
      "cell_type": "code",
      "source": [
        "for i in range(-5, 5):\n",
        "  if i > 0:\n",
        "    print(\"SI\")\n",
        "  elif i == 0:\n",
        "    print(\"Espectacular\")\n",
        "  else:\n",
        "    print(\"NO\")\n"
      ],
      "metadata": {
        "colab": {
          "base_uri": "https://localhost:8080/"
        },
        "id": "Zo8ckGbctwuH",
        "outputId": "fd99cbb7-7c4a-462a-ad7c-ba004a6d441a"
      },
      "execution_count": 73,
      "outputs": [
        {
          "output_type": "stream",
          "name": "stdout",
          "text": [
            "NO\n",
            "NO\n",
            "NO\n",
            "NO\n",
            "NO\n",
            "Espectacular\n",
            "SI\n",
            "SI\n",
            "SI\n",
            "SI\n"
          ]
        }
      ]
    },
    {
      "cell_type": "markdown",
      "source": [
        "## if: condicional que si se cumple una condición se ejecuta un código determinado por el programador"
      ],
      "metadata": {
        "id": "BAe5FdJuuA-j"
      }
    },
    {
      "cell_type": "code",
      "source": [
        "x = 5\n",
        "if x > 6:\n",
        "  print(\"YES\")\n",
        "else:\n",
        "  print(\"NO\")\n"
      ],
      "metadata": {
        "colab": {
          "base_uri": "https://localhost:8080/"
        },
        "id": "elxYAS_IuG2w",
        "outputId": "10e74093-2ed9-4a9e-a0e8-40818f48ed98"
      },
      "execution_count": 75,
      "outputs": [
        {
          "output_type": "stream",
          "name": "stdout",
          "text": [
            "NO\n"
          ]
        }
      ]
    },
    {
      "cell_type": "markdown",
      "source": [
        "## or: operador que evalúa el cumplimiento de una condición de varias"
      ],
      "metadata": {
        "id": "2venQW00vRcp"
      }
    },
    {
      "cell_type": "code",
      "source": [
        "if 5 > 3 or 5 > 10:\n",
        "  print(\"Al menos una de las afirmaciones es verdadera\")\n",
        "else:\n",
        "  print(\"Ninguna de las afirmaciones es verdadera\")"
      ],
      "metadata": {
        "colab": {
          "base_uri": "https://localhost:8080/"
        },
        "id": "gKsNZFsjvSDz",
        "outputId": "a13d77c5-e38d-48a2-ed48-b99e74feb439"
      },
      "execution_count": 76,
      "outputs": [
        {
          "output_type": "stream",
          "name": "stdout",
          "text": [
            "Al menos una de las afirmaciones es verdadera\n"
          ]
        }
      ]
    },
    {
      "cell_type": "markdown",
      "source": [
        "## yield: cuando una función en python tiene un yield hace referencia a que el valor obtenido es mediante un generador y no un return"
      ],
      "metadata": {
        "id": "A12T56c4vyg9"
      }
    },
    {
      "cell_type": "code",
      "source": [
        "def contador(max):\n",
        "    n=0\n",
        "    while n < max:\n",
        "            yield n\n",
        "            n=n+1\n",
        "\n",
        "mycont = contador(5)\n",
        "\n",
        "for i in mycont:\n",
        "    print(i)"
      ],
      "metadata": {
        "colab": {
          "base_uri": "https://localhost:8080/"
        },
        "id": "T8mN0tJNwYQQ",
        "outputId": "238c530d-4e12-4d18-ccb6-b6846ce24d5d"
      },
      "execution_count": 81,
      "outputs": [
        {
          "output_type": "stream",
          "name": "stdout",
          "text": [
            "0\n",
            "1\n",
            "2\n",
            "3\n",
            "4\n"
          ]
        }
      ]
    },
    {
      "cell_type": "markdown",
      "source": [
        "## assert: prueba si una condición es verdadera, si lo es, no sucede nada, sino lo es arroja un error"
      ],
      "metadata": {
        "id": "dc-UtOJ5yE6A"
      }
    },
    {
      "cell_type": "code",
      "source": [
        "assert(17==17)"
      ],
      "metadata": {
        "id": "s9pdqj2OyMM5"
      },
      "execution_count": 82,
      "outputs": []
    },
    {
      "cell_type": "code",
      "source": [
        "x = \"hello\"\n",
        "\n",
        "assert x == \"hello\"\n",
        "\n",
        "assert x == \"goodbye\"\n"
      ],
      "metadata": {
        "colab": {
          "base_uri": "https://localhost:8080/",
          "height": 200
        },
        "id": "fD8SKTsZyu4z",
        "outputId": "9134dbfc-7c55-4dec-f57c-d03524376408"
      },
      "execution_count": 83,
      "outputs": [
        {
          "output_type": "error",
          "ename": "AssertionError",
          "evalue": "ignored",
          "traceback": [
            "\u001b[0;31m---------------------------------------------------------------------------\u001b[0m",
            "\u001b[0;31mAssertionError\u001b[0m                            Traceback (most recent call last)",
            "\u001b[0;32m<ipython-input-83-e9dad63bcd2d>\u001b[0m in \u001b[0;36m<module>\u001b[0;34m\u001b[0m\n\u001b[1;32m      3\u001b[0m \u001b[0;32massert\u001b[0m \u001b[0mx\u001b[0m \u001b[0;34m==\u001b[0m \u001b[0;34m\"hello\"\u001b[0m\u001b[0;34m\u001b[0m\u001b[0;34m\u001b[0m\u001b[0m\n\u001b[1;32m      4\u001b[0m \u001b[0;34m\u001b[0m\u001b[0m\n\u001b[0;32m----> 5\u001b[0;31m \u001b[0;32massert\u001b[0m \u001b[0mx\u001b[0m \u001b[0;34m==\u001b[0m \u001b[0;34m\"goodbye\"\u001b[0m\u001b[0;34m\u001b[0m\u001b[0;34m\u001b[0m\u001b[0m\n\u001b[0m",
            "\u001b[0;31mAssertionError\u001b[0m: "
          ]
        }
      ]
    },
    {
      "cell_type": "markdown",
      "source": [
        "## else: declara que sucede cuando una condición no es verdadera"
      ],
      "metadata": {
        "id": "595YMOW5y9S7"
      }
    },
    {
      "cell_type": "code",
      "source": [
        "a = 200\n",
        "b = 33\n",
        "if b > a:\n",
        "  print(\"b es mayor que a\")\n",
        "elif a == b:\n",
        "  print(\"a y b son iguales\")\n",
        "else:\n",
        "  print(\"a es mayor que b\")"
      ],
      "metadata": {
        "colab": {
          "base_uri": "https://localhost:8080/"
        },
        "id": "yDscFGFLzBc7",
        "outputId": "329abae9-8299-4c01-e4de-96593b76f078"
      },
      "execution_count": 84,
      "outputs": [
        {
          "output_type": "stream",
          "name": "stdout",
          "text": [
            "a es mayor que b\n"
          ]
        }
      ]
    },
    {
      "cell_type": "markdown",
      "source": [
        "## import: se utiliza para importar librerias"
      ],
      "metadata": {
        "id": "KEM-WMx-zgZM"
      }
    },
    {
      "cell_type": "code",
      "source": [
        "import datetime\n",
        "\n",
        "x=datetime.datetime.now() \n",
        "\n",
        "print(x)"
      ],
      "metadata": {
        "colab": {
          "base_uri": "https://localhost:8080/"
        },
        "id": "Iz6DpCFWzf9V",
        "outputId": "6bf9d9cc-aa84-4907-bfb4-578713873e21"
      },
      "execution_count": 86,
      "outputs": [
        {
          "output_type": "stream",
          "name": "stdout",
          "text": [
            "2022-09-11 23:08:10.357732\n"
          ]
        }
      ]
    },
    {
      "cell_type": "markdown",
      "source": [
        "## pass: indica que se continúe ejecutando el programa ignorando una condición"
      ],
      "metadata": {
        "id": "Rq2YN3FEz9qK"
      }
    },
    {
      "cell_type": "code",
      "source": [
        "\n",
        "li =['a', 'b', 'c', 'd']\n",
        "  \n",
        "for i in li:\n",
        "    if(i =='a'):\n",
        "        pass \n",
        "    else:\n",
        "        print(i)\n"
      ],
      "metadata": {
        "colab": {
          "base_uri": "https://localhost:8080/"
        },
        "id": "NEYlIPQQz_s1",
        "outputId": "29e0594f-29b5-493b-81cd-f9c8537e9784"
      },
      "execution_count": 89,
      "outputs": [
        {
          "output_type": "stream",
          "name": "stdout",
          "text": [
            "b\n",
            "c\n",
            "d\n"
          ]
        }
      ]
    },
    {
      "cell_type": "markdown",
      "source": [
        "## break: rompe un ciclo"
      ],
      "metadata": {
        "id": "WWSnRn1D1K5w"
      }
    },
    {
      "cell_type": "code",
      "source": [
        "for i in range(9):\n",
        "  if i > 3:\n",
        "    break\n",
        "  print(i)"
      ],
      "metadata": {
        "colab": {
          "base_uri": "https://localhost:8080/"
        },
        "id": "v6GTBgoR1Xoq",
        "outputId": "8b41b824-57b4-4311-aab7-fb0e441b5a8e"
      },
      "execution_count": 90,
      "outputs": [
        {
          "output_type": "stream",
          "name": "stdout",
          "text": [
            "0\n",
            "1\n",
            "2\n",
            "3\n"
          ]
        }
      ]
    },
    {
      "cell_type": "markdown",
      "source": [
        "## except: se ejecuta cuando hay un error, normalmente explica el error"
      ],
      "metadata": {
        "id": "pkJ_Tfjw1Zl4"
      }
    },
    {
      "cell_type": "code",
      "source": [
        "x = \"hello\"\n",
        "\n",
        "try:\n",
        "  x > 3\n",
        "except NameError:\n",
        "  print(\"Tienes una variable que no esta definida\")\n",
        "except TypeError:\n",
        "  print(\"Estás comparando valores de diferente tipo\")"
      ],
      "metadata": {
        "colab": {
          "base_uri": "https://localhost:8080/"
        },
        "id": "QjgGYnnB1uYG",
        "outputId": "c729ba71-7d53-409d-f05f-5c50edf822dc"
      },
      "execution_count": 92,
      "outputs": [
        {
          "output_type": "stream",
          "name": "stdout",
          "text": [
            "Estás comparando valores de diferente tipo\n"
          ]
        }
      ]
    },
    {
      "cell_type": "markdown",
      "source": [
        "## in: operador de pertenencia, muestra true si la pertenencia se cumple"
      ],
      "metadata": {
        "id": "eivQGG81193N"
      }
    },
    {
      "cell_type": "code",
      "source": [
        "frutas = [\"manzana\", \"banana\", \"mora\",\"fresa\"]\n",
        "\n",
        "if \"banana\" in frutas:\n",
        "  print(\"Sí se ecnuentra en frutas\")"
      ],
      "metadata": {
        "colab": {
          "base_uri": "https://localhost:8080/"
        },
        "id": "4HELLZpY2CSJ",
        "outputId": "59183f5a-6b7b-4b69-f73e-7455cfd3ab49"
      },
      "execution_count": 93,
      "outputs": [
        {
          "output_type": "stream",
          "name": "stdout",
          "text": [
            "Sí se ecnuentra en frutas\n"
          ]
        }
      ]
    },
    {
      "cell_type": "markdown",
      "source": [
        "## raise: otra forma de controlar un error que arroje el programa"
      ],
      "metadata": {
        "id": "9RVloiW42h5s"
      }
    },
    {
      "cell_type": "code",
      "source": [
        "x = -1\n",
        "\n",
        "if x < 0:\n",
        "  raise Exception(\"Disculpa, no sirven números menores que cero\")"
      ],
      "metadata": {
        "id": "-D_4a3JJ4_86"
      },
      "execution_count": null,
      "outputs": []
    },
    {
      "cell_type": "markdown",
      "source": [
        "###BIBLIOGRAFIA\n",
        "### https://www.w3schools.com/python/python_ref_keywords.asp"
      ],
      "metadata": {
        "id": "UXiqWadD5MBu"
      }
    }
  ]
}