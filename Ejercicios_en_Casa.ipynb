{
  "nbformat": 4,
  "nbformat_minor": 0,
  "metadata": {
    "colab": {
      "name": "Ejercicios en Casa.ipynb",
      "provenance": []
    },
    "kernelspec": {
      "name": "python3",
      "display_name": "Python 3"
    },
    "language_info": {
      "name": "python"
    }
  },
  "cells": [
    {
      "cell_type": "markdown",
      "source": [
        "#6. Cuatro notas Y su promedio\n"
      ],
      "metadata": {
        "id": "kblDN0ymwjbD"
      }
    },
    {
      "cell_type": "code",
      "execution_count": 3,
      "metadata": {
        "colab": {
          "base_uri": "https://localhost:8080/"
        },
        "id": "UE_YM8eOwdcc",
        "outputId": "e8e041e1-9539-4fdd-c5a6-91680a448362"
      },
      "outputs": [
        {
          "output_type": "stream",
          "name": "stdout",
          "text": [
            "Ingrese notas de 0 a 50\n",
            "38\n",
            "23\n",
            "44\n",
            "48\n",
            "Panita tu promedio es 38.25\n",
            "Te toca presentar el examen\n"
          ]
        }
      ],
      "source": [
        "print(\"Ingrese notas de 0 a 50\")\n",
        "i= int(input())\n",
        "v= int(input())\n",
        "a= int(input())\n",
        "n= int(input())\n",
        "prom=((i+v+a+n)/(4))\n",
        "\n",
        "print(\"Panita tu promedio es\",prom,)\n",
        "if prom>45:\n",
        "  print(\"Estas exonerado del examen final\")\n",
        "else:\n",
        "  if prom>=35:\n",
        "    print(\"Te toca presentar el examen\") \n",
        "  else:\n",
        "    if prom>=30:\n",
        "      print(\" Tienes que presentar el examen y para mas un trabajo \")\n",
        "    else:\n",
        "      if prom>=20:\n",
        "        print( \" Tienes que hacer la recuperación \") \n",
        "      else:\n",
        "        print(\"Lastimosamente perdiste la materia\")  "
      ]
    },
    {
      "cell_type": "markdown",
      "source": [
        "## 8. Si un numero bisiesto\n"
      ],
      "metadata": {
        "id": "uaXwjU2_0lxy"
      }
    },
    {
      "cell_type": "code",
      "source": [
        "año=int(input())\n",
        "if año % 4!= 0:\n",
        "  print(\"Este no es bisiesto\")\n",
        "elif año % 4== 0 and año % 100!= 0:\n",
        "  print(\"Este si es bisiesto\")\n",
        "elif año % 4== 0 and año % 100 == 0 and año % 400 != 0:\n",
        "  print(\"Este si es bisiesto\")\n",
        "elif año % 4== 0 and año % 100 == 0 and año % 400 == 0:\n",
        "   print(\" Este si es bisiesto \")  "
      ],
      "metadata": {
        "colab": {
          "base_uri": "https://localhost:8080/"
        },
        "id": "eE_jDj2h08Mq",
        "outputId": "ca147526-5ab6-42d9-bed3-a768a1438f29"
      },
      "execution_count": 7,
      "outputs": [
        {
          "output_type": "stream",
          "name": "stdout",
          "text": [
            "55\n",
            "Este no es bisiesto\n"
          ]
        }
      ]
    },
    {
      "cell_type": "markdown",
      "source": [
        "##15. Numero entero y de su valor absoluto.\n",
        "\n"
      ],
      "metadata": {
        "id": "MtzQ73mE2gBe"
      }
    },
    {
      "cell_type": "code",
      "source": [
        "i= float(input(\" POr favor ingresa un numero entero \"))\n",
        "c= int(i)\n",
        "if c>0 and i==c:\n",
        "  print( \"El valor absoluto de \",i,\"es\",i)\n",
        "elif c>0 and c==a: \n",
        "  print( \"El valor absoluto de\",x, \"es\",(-1*i))\n",
        "else: \n",
        "  print( \" Por favor debes colocar numeros enteros\") "
      ],
      "metadata": {
        "colab": {
          "base_uri": "https://localhost:8080/"
        },
        "id": "Cc5vKDo02vQb",
        "outputId": "152c1a02-f15b-445b-c807-3418eb43a439"
      },
      "execution_count": 9,
      "outputs": [
        {
          "output_type": "stream",
          "name": "stdout",
          "text": [
            " POr favor ingresa un numero entero 1.7\n",
            " Por favor debes colocar numeros enteros\n"
          ]
        }
      ]
    },
    {
      "cell_type": "markdown",
      "source": [
        "## 13. Realizar programa de conversión"
      ],
      "metadata": {
        "id": "96adjKi44MzM"
      }
    },
    {
      "cell_type": "code",
      "source": [
        "print(\"10. cm a km\")\n",
        "print(\"20. cm a km \")\n",
        "print(\"30. m a km\")\n",
        "print(\"40. km a cm\")\n",
        "print(\"50. km a m\")\n",
        "\n",
        "i=int(input(\"Seleccione una de estas opciones de conversión\"))\n",
        "if i==10:\n",
        "  cm= float(input(\" Ingresa los cm que quieras\"))\n",
        "  print(f\"{cm} cm son {cm*0.01} m\")\n",
        "if i==20:\n",
        "  cm= float(input(\" Ingresa los cm que quieras\"))\n",
        "  print(f\"{cm} cm son {cm/100000} km\")\n",
        "if i==30:\n",
        "  m= float(input(\" Ingresa los m que quieras\"))\n",
        "  print(f\"{m} m son {m/1000} km\")\n",
        "if i==40:\n",
        "  km= float(input(\" Ingresa los km que quieras\"))\n",
        "  print(f\"{km} km son {km*100000} cm\")\n",
        "if i==50:\n",
        "  km= float(input(\" Ingresa los km que quieras \"))\n",
        "  print(f\"{km} km son {km*1000} m\")  \n",
        "\n"
      ],
      "metadata": {
        "colab": {
          "base_uri": "https://localhost:8080/"
        },
        "id": "aA9hYTbi4YjK",
        "outputId": "6fa6deba-886e-40ec-c4af-2cd7fa2205f2"
      },
      "execution_count": 19,
      "outputs": [
        {
          "output_type": "stream",
          "name": "stdout",
          "text": [
            "10. cm a km\n",
            "20. cm a km \n",
            "30. m a km\n",
            "40. km a cm\n",
            "50. km a m\n",
            "Seleccione una de estas opciones de conversión10\n",
            " Ingresa los cm que quieras20\n",
            "20.0 cm son 0.2 m\n"
          ]
        }
      ]
    }
  ]
}